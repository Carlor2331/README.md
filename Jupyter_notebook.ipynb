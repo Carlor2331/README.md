# Display the output
Print(New ipynb file)
